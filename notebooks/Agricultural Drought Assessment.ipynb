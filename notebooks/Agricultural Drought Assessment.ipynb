{
 "cells": [
  {
   "cell_type": "markdown",
   "id": "6280441f-66fc-4185-812e-4bd535eb068d",
   "metadata": {},
   "source": [
    "Chapter: Agricultural Drought Assessment in Rondônia, Brazil\n",
    "Python + Google Earth Engine (GEE) script\n",
    "\n",
    "Goal: provide a simple, functional workflow to compute a composite drought index\n",
    "for a small AOI in Rondônia using CHIRPS precipitation, ERA5 temperature,\n",
    "and MODIS NDVI. Outputs: drought severity map (mild/moderate/severe) and\n",
    "timeseries summary for an AOI. This file is written to be runnable with the\n",
    "Python Earth Engine API (ee). Adjust the date_range and AOI as needed.\n",
    "\n",
    "Notes:\n",
    "- This script uses standardized anomalies (z-scores) for SPI and temperature.\n",
    "- VCI is computed as per-month historical min/max normalization (0-100).\n",
    "- A simple weighted composite combines indicators.\n",
    "\n",
    "Dependencies:\n",
    "- earthengine-api (ee)\n",
    "- geemap (optional, for interactive maps)\n",
    "- folium (optional)\n",
    "\n",
    "Example run: set target_year=2023, target_month=11 to reproduce an example\n",
    "for November 2023."
   ]
  },
  {
   "cell_type": "code",
   "execution_count": 1,
   "id": "45a0d7ee-a4b7-42d5-a951-0c1a1390c8b8",
   "metadata": {},
   "outputs": [],
   "source": [
    "# ----------------------- Short README / Guidance ---------------------------\n",
    "# Usage notes / validation suggestions:\n",
    "# - Validate thresholds with local in-situ observations or agricultural yield records.\n",
    "# - Tune weights (WEIGHT_SPI, WEIGHT_VCI, WEIGHT_TEMP) to reflect local sensitivity.\n",
    "# - Replace z-score SPI with full SPI gamma-distribution estimation for formal SPI.\n",
    "# - Consider drought persistence by adding lagged months (e.g., 3-month SPI).\n",
    "# - Automate by scheduling monthly runs and exporting to Drive or sending notifications."
   ]
  },
  {
   "cell_type": "code",
   "execution_count": 2,
   "id": "d3fde435-ce21-42e2-8596-231ddeb7ddaf",
   "metadata": {},
   "outputs": [],
   "source": [
    "import ee\n",
    "import datetime\n",
    "\n",
    "# Replace by your project numbber:\n",
    "my_project = 'my-project-00000000000'\n",
    "\n",
    "# Initialize Earth Engine. For first-time use, run `ee.Authenticate()` in a\n",
    "# separate environment and then `ee.Initialize()`.\n",
    "try:\n",
    "    ee.Initialize(project=my_project)\n",
    "except Exception as e:\n",
    "    raise RuntimeError(\"Earth Engine not initialized. Run ee.Authenticate() first.\")"
   ]
  },
  {
   "cell_type": "code",
   "execution_count": 3,
   "id": "5c74bffa-ca49-4f6a-bcfa-b49cf0667086",
   "metadata": {},
   "outputs": [],
   "source": [
    "# ----------------------------- Parameters ---------------------------------\n",
    "# AOI: simplified rectangle covering a small agricultural region in Rondônia\n",
    "study_area = ee.Geometry.Rectangle([-65.5, -13.5, -59.5, -7.5])\n",
    "\n",
    "# Baseline period for climatology\n",
    "baseline_start = '2001-01-01'\n",
    "baseline_end = '2020-12-31'\n",
    "\n",
    "# Target month to analyze (example: November 2023)\n",
    "target_year = 2023\n",
    "target_month = 11\n",
    "\n",
    "# Weights for composite index (sum to 1)\n",
    "WEIGHT_SPI = 0.5\n",
    "WEIGHT_VCI = 0.35\n",
    "WEIGHT_TEMP = 0.15"
   ]
  },
  {
   "cell_type": "code",
   "execution_count": 4,
   "id": "145c98ff-53be-4d5a-95f8-a7d51a9a73f2",
   "metadata": {},
   "outputs": [],
   "source": [
    "# ----------------------------- Helpers ------------------------------------\n",
    "def month_start_end(year, month):\n",
    "    start = datetime.date(year, month, 1)\n",
    "    if month == 12:\n",
    "        end = datetime.date(year + 1, 1, 1)\n",
    "    else:\n",
    "        end = datetime.date(year, month + 1, 1)\n",
    "    return start.isoformat(), end.isoformat()\n",
    "\n",
    "# Convert Python date strings to EE.Date\n",
    "\n",
    "def ee_date(s):\n",
    "    return ee.Date(s)\n",
    "\n",
    "# Z-score normalization for an ee.Image: (x - mean)/std. Returns image with band 'z'\n",
    "def zscore(image, mean_img, std_img, band):\n",
    "    return image.select([band]).subtract(mean_img.select([band])).divide(std_img.select([band])).rename([band + '_z'])\n",
    "\n",
    "\n"
   ]
  },
  {
   "cell_type": "code",
   "execution_count": 5,
   "id": "1767a9c4-2aa2-4ee5-861e-52ba16fbe7cc",
   "metadata": {},
   "outputs": [
    {
     "name": "stderr",
     "output_type": "stream",
     "text": [
      "C:\\Users\\colla\\AppData\\Local\\Programs\\Python\\Python313\\Lib\\site-packages\\ee\\deprecation.py:209: DeprecationWarning: \n",
      "\n",
      "Attention required for MODIS/006/MOD13Q1! You are using a deprecated asset.\n",
      "To make sure your code keeps working, please update it.\n",
      "Learn more: https://developers.google.com/earth-engine/datasets/catalog/MODIS_006_MOD13Q1\n",
      "\n",
      "  warnings.warn(warning, category=DeprecationWarning)\n"
     ]
    }
   ],
   "source": [
    "# ------------------------- Data ingestion ---------------------------------\n",
    "# CHIRPS daily precipitation: dataset id in GEE\n",
    "# Note: CHIRPS daily collection ID is 'UCSB-CHG/CHIRPS/DAILY'\n",
    "chirps_id = 'UCSB-CHG/CHIRPS/DAILY'\n",
    "chirps = ee.ImageCollection(chirps_id)\n",
    "\n",
    "# MODIS NDVI: use MOD13Q1 (16-day, 250m, NDVI band 'NDVI')\n",
    "modis_id = 'MODIS/006/MOD13Q1'\n",
    "modis = ee.ImageCollection(modis_id)\n",
    "\n",
    "# ERA5-Land hourly temperature (2m) -- use hourly, will aggregate to daily/monthly\n",
    "# Band: 'temperature_2m' (units: Kelvin)\n",
    "era5_id = 'ECMWF/ERA5_LAND/HOURLY'\n",
    "era5 = ee.ImageCollection(era5_id)"
   ]
  },
  {
   "cell_type": "code",
   "execution_count": 6,
   "id": "bca1102b-2c5f-4360-968f-2182ad2d8609",
   "metadata": {},
   "outputs": [
    {
     "name": "stdout",
     "output_type": "stream",
     "text": [
      "Analyzing period: 2023-11-01 to 2023-12-01\n"
     ]
    }
   ],
   "source": [
    "# ----------------------- Prepare target period -----------------------------\n",
    "start_date, end_date = month_start_end(target_year, target_month)\n",
    "print(f\"Analyzing period: {start_date} to {end_date}\")"
   ]
  },
  {
   "cell_type": "code",
   "execution_count": 7,
   "id": "35155bf1-b171-4f93-a0fe-0aea177d1be8",
   "metadata": {},
   "outputs": [],
   "source": [
    "# ----------------------- Precipitation: Monthly SPI (z-score) -------------\n",
    "# 1) Sum daily precipitation for the target month\n",
    "precip_month = chirps.filterDate(start_date, end_date).select('precipitation')\n",
    "precip_month_sum = precip_month.sum().rename('precip')"
   ]
  },
  {
   "cell_type": "code",
   "execution_count": 8,
   "id": "e7d7302a-2428-4cae-83b4-85f25101a028",
   "metadata": {},
   "outputs": [],
   "source": [
    "# 2) Compute baseline climatology: monthly sums for same calendar month across baseline\n",
    "# Build a list of monthly summed images for each baseline year\n",
    "\n",
    "def monthly_sum_for_year(year):\n",
    "    s, e = month_start_end(year, target_month)\n",
    "    return chirps.filterDate(s, e).select('precipitation').sum().set('year', year)\n",
    "\n",
    "baseline_years = list(range(int(baseline_start[:4]), int(baseline_end[:4]) + 1))\n",
    "baseline_monthly = ee.ImageCollection([monthly_sum_for_year(y) for y in baseline_years])\n",
    "\n",
    "precip_mean = baseline_monthly.mean().rename('precip_mean')\n",
    "precip_std = baseline_monthly.reduce(ee.Reducer.stdDev()).rename('precip_std')\n",
    "\n",
    "# Avoid division by zero\n",
    "precip_std = precip_std.max(1e-6)\n",
    "\n",
    "spi_z = zscore(precip_month_sum, precip_mean, precip_std, 'precip')  # positive means wetter than average\n",
    "# For drought we want negative SPI -> invert sign so higher positive values = drought severity\n",
    "spi_anomaly = spi_z.multiply(-1).rename('SPI_z')"
   ]
  },
  {
   "cell_type": "code",
   "execution_count": 9,
   "id": "d299aab9-8b73-462a-8a05-cabf983292c2",
   "metadata": {},
   "outputs": [],
   "source": [
    "# ----------------------- MODIS NDVI: VCI ---------------------------------\n",
    "# MOD13Q1 NDVI is scaled by factor 0.0001.\n",
    "# Select the MODIS image(s) overlapping the target month: use MODIS composites that overlap the period\n",
    "modis_month = modis.filterDate(start_date, end_date).select('NDVI')\n",
    "# Some months may contain 1 or 2 16-day composites; compute mean NDVI for the period\n",
    "ndvi_month_mean = modis_month.mean().multiply(0.0001).rename('NDVI')\n",
    "\n",
    "# Baseline for NDVI: compute per-month historical min and max across baseline years\n",
    "\n",
    "def modis_month_for_year(year):\n",
    "    s, e = month_start_end(year, target_month)\n",
    "    return modis.filterDate(s, e).select('NDVI').mean().multiply(0.0001).set('year', year)\n",
    "\n",
    "baseline_ndvi_collection = ee.ImageCollection([modis_month_for_year(y) for y in baseline_years])\n",
    "ndvi_min = baseline_ndvi_collection.min().rename('NDVI_min')\n",
    "ndvi_max = baseline_ndvi_collection.max().rename('NDVI_max')\n",
    "\n",
    "# Compute VCI = (NDVI - NDVI_min) / (NDVI_max - NDVI_min) * 100\n",
    "vci_denom = ndvi_max.subtract(ndvi_min).max(1e-6)\n",
    "vci = ndvi_month_mean.subtract(ndvi_min).divide(vci_denom).multiply(100).rename('VCI')\n",
    "# Clip to 0-100\n",
    "vci = vci.clamp(0, 100)\n",
    "\n",
    "# For composite, convert VCI to a drought-oriented anomaly where lower VCI -> higher drought\n",
    "# We'll standardize VCI by converting to a negative z-score relative to baseline mean/std\n",
    "ndvi_mean = baseline_ndvi_collection.mean().rename('NDVI_mean')\n",
    "ndvi_std = baseline_ndvi_collection.reduce(ee.Reducer.stdDev()).rename('NDVI_std')\n",
    "ndvi_std = ndvi_std.max(1e-6)\n",
    "ndvi_z = zscore(ndvi_month_mean, ndvi_mean, ndvi_std, 'NDVI')\n",
    "# Lower NDVI -> negative z -> multiply -1 to make positive values indicate drought\n",
    "vci_anomaly = ndvi_z.multiply(-1).rename('VCI_z')"
   ]
  },
  {
   "cell_type": "code",
   "execution_count": 10,
   "id": "ef6553e2-bbb3-4760-99e2-8c20c572d9d7",
   "metadata": {},
   "outputs": [],
   "source": [
    "# ----------------------- ERA5 Temperature anomaly (z-score) ----------------\n",
    "# ERA5 temperature is in Kelvin; convert to Celsius for interpretability\n",
    "# Aggregate hourly -> daily mean -> monthly mean for target period\n",
    "era5_month = era5.filterDate(start_date, end_date).select('temperature_2m')\n",
    "# Mean over month (in Kelvin)\n",
    "temp_month_mean_k = era5_month.mean().rename('temp_k')\n",
    "temp_month_mean_c = temp_month_mean_k.subtract(273.15).rename('temp_c')\n",
    "\n",
    "# Baseline: monthly means across baseline years\n",
    "\n",
    "def era5_month_for_year(year):\n",
    "    s, e = month_start_end(year, target_month)\n",
    "    return era5.filterDate(s, e).select('temperature_2m').mean().rename('temp_k').set('year', year)\n",
    "\n",
    "baseline_temp_collection = ee.ImageCollection([era5_month_for_year(y) for y in baseline_years])\n",
    "baseline_temp_mean_k = baseline_temp_collection.mean().rename('temp_k_mean')\n",
    "baseline_temp_std_k = baseline_temp_collection.reduce(ee.Reducer.stdDev()).rename('temp_k_std')\n",
    "\n",
    "baseline_temp_mean_c = baseline_temp_mean_k.subtract(273.15).rename('temp_mean_c')\n",
    "baseline_temp_std_c = baseline_temp_std_k.rename('temp_std_k')  # std in K similar magnitude\n",
    "baseline_temp_std_c = baseline_temp_std_c.max(1e-6)\n",
    "\n",
    "# Z-score for temp: higher positive means hotter than usual -> drought intensifier\n",
    "temp_z = zscore(temp_month_mean_k, baseline_temp_mean_k, baseline_temp_std_k, 'temp_k').rename('temp_z')\n",
    "# Keep as positive for drought\n",
    "temp_anomaly = temp_z.rename('TEMP_z')"
   ]
  },
  {
   "cell_type": "code",
   "execution_count": 11,
   "id": "7c942e6d-2703-4047-9b74-2f3a834563f2",
   "metadata": {},
   "outputs": [],
   "source": [
    "# ----------------------- Composite Drought Index ---------------------------\n",
    "# Stack standardized layers (SPI_z, VCI_z, TEMP_z) into one image\n",
    "composite = ee.Image.cat([spi_anomaly, vci_anomaly, temp_anomaly])\n",
    "\n",
    "# Weighted sum\n",
    "composite_weighted = composite.select('SPI_z').multiply(WEIGHT_SPI)\n",
    "composite_weighted = composite_weighted.add(composite.select('VCI_z').multiply(WEIGHT_VCI))\n",
    "composite_weighted = composite_weighted.add(composite.select('TEMP_z').multiply(WEIGHT_TEMP)).rename('CDI')\n",
    "\n",
    "# ----------------------- Classification -----------------------------------\n",
    "# Define thresholds on the composite index for drought severity.\n",
    "# These thresholds are illustrative; adjust empirically based on local validation.\n",
    "# CDI <= 0.5: No drought; 0.5-1.5 mild; 1.5-2.5 moderate; >2.5 severe\n",
    "\n",
    "def classify_cdi(cdi):\n",
    "    none = cdi.lte(0.5)\n",
    "    mild = cdi.gt(0.5).And(cdi.lte(1.5))\n",
    "    moderate = cdi.gt(1.5).And(cdi.lte(2.5))\n",
    "    severe = cdi.gt(2.5)\n",
    "    # create a single-band classified image: 0 none, 1 mild, 2 moderate, 3 severe\n",
    "    return none.multiply(0).add(mild.multiply(1)).add(moderate.multiply(2)).add(severe.multiply(3)).rename('drought_class')\n",
    "\n",
    "cdi_img = composite_weighted\n",
    "drought_class = classify_cdi(cdi_img)"
   ]
  },
  {
   "cell_type": "code",
   "execution_count": 12,
   "id": "bf1a0f37-45ea-496c-882f-2f5d9be76bbe",
   "metadata": {},
   "outputs": [
    {
     "name": "stderr",
     "output_type": "stream",
     "text": [
      "IOPub data rate exceeded.\n",
      "The Jupyter server will temporarily stop sending output\n",
      "to the client in order to avoid crashing it.\n",
      "To change this limit, set the config variable\n",
      "`--ServerApp.iopub_data_rate_limit`.\n",
      "\n",
      "Current values:\n",
      "ServerApp.iopub_data_rate_limit=1000000.0 (bytes/sec)\n",
      "ServerApp.rate_limit_window=3.0 (secs)\n",
      "\n"
     ]
    }
   ],
   "source": [
    "# ----------------------- Map & Export (example) ---------------------------\n",
    "# For quick visualization in Python, use geemap or export to Asset/Drive. Below\n",
    "# we create URLs for map visualization via folium (if geemap installed this is easier).\n",
    "\n",
    "# Compute mean values over AOI for a quick report\n",
    "stats = cdi_img.reduceRegion(\n",
    "    reducer=ee.Reducer.mean(),\n",
    "    geometry=study_area,\n",
    "    scale=5000,\n",
    "    maxPixels=1e9\n",
    ")\n",
    "\n",
    "cdi_mean = stats.get('CDI')\n",
    "print('Composite drought index (mean over AOI):', cdi_mean)"
   ]
  },
  {
   "cell_type": "code",
   "execution_count": 13,
   "id": "113045a5-f350-44bb-981a-ecc97b1e0040",
   "metadata": {},
   "outputs": [],
   "source": [
    "# Example export to Google Drive (uncomment to use)\n",
    "export_task = ee.batch.Export.image.toDrive(\n",
    "     image=cdi_img.clip(study_area),\n",
    "     description=f'CDI_{target_year}_{target_month}',\n",
    "     folder='GEE_Exports',\n",
    "     fileNamePrefix=f'CDI_{target_year}_{target_month}',\n",
    "     region=study_area.bounds().getInfo()['coordinates'],\n",
    "     scale=5000,\n",
    "     maxPixels=1e13\n",
    ")\n",
    "export_task.start()"
   ]
  },
  {
   "cell_type": "code",
   "execution_count": null,
   "id": "59a86937-12a2-4126-b4e8-ac79f95a347c",
   "metadata": {},
   "outputs": [],
   "source": []
  },
  {
   "cell_type": "code",
   "execution_count": 14,
   "id": "547fb87a-040c-4a18-951c-5c8cb51ee45e",
   "metadata": {},
   "outputs": [],
   "source": [
    "\n",
    "\n",
    "\n",
    "\n",
    "# ----------------------- Timeseries example --------------------------------\n",
    "# Build a simple timeseries of monthly CDI for the last 24 months for AOI\n",
    "\n",
    "def monthly_cdi_for(year, month):\n",
    "    s, e = month_start_end(year, month)\n",
    "    # repeat the same pipeline: precip sum, ndvi mean, temp mean, then composite\n",
    "    prec_sum = chirps.filterDate(s, e).select('precipitation').sum()\n",
    "    # baseline stats for SPI z: reuse baseline images computed previously but careful\n",
    "    # For simplicity here compute z using baseline_monthly (already defined above)\n",
    "    spi_z_local = zscore(prec_sum, precip_mean, precip_std, 'precip').multiply(-1)\n",
    "\n",
    "    ndvi_m = modis.filterDate(s, e).select('NDVI').mean().multiply(0.0001)\n",
    "    ndvi_z_local = zscore(ndvi_m, ndvi_mean, ndvi_std, 'NDVI').multiply(-1)\n",
    "\n",
    "    temp_m_k = era5.filterDate(s, e).select('temperature_2m').mean()\n",
    "    temp_z_local = zscore(temp_m_k, baseline_temp_mean_k, baseline_temp_std_k, 'temp_k')\n",
    "\n",
    "    comp = spi_z_local.multiply(WEIGHT_SPI).add(ndvi_z_local.multiply(WEIGHT_VCI)).add(temp_z_local.multiply(WEIGHT_TEMP)).rename('CDI')\n",
    "    mean_val = comp.reduceRegion(ee.Reducer.mean(), study_area, scale=5000).get('CDI')\n",
    "    return ee.Feature(None, {'date': f\"{year}-{month:02d}\", 'CDI': mean_val})\n",
    "\n",
    "# Create list for last 24 months\n",
    "end_dt = datetime.date(target_year, target_month, 1)\n",
    "months = []\n",
    "for i in range(23, -1, -1):\n",
    "    dt = end_dt - datetime.timedelta(days=30 * i)  # approximate stepping by 30 days\n",
    "    months.append((dt.year, dt.month))\n",
    "\n",
    "features = [monthly_cdi_for(y, m) for (y, m) in months]\n",
    "feature_collection = ee.FeatureCollection(features)\n",
    "\n",
    "# Get timeseries values (note: this executes server-side; may require waiting)\n",
    "\n"
   ]
  },
  {
   "cell_type": "code",
   "execution_count": 15,
   "id": "51089453-314a-4e85-8778-fe85215a7210",
   "metadata": {},
   "outputs": [
    {
     "name": "stdout",
     "output_type": "stream",
     "text": [
      "Could not fetch timeseries synchronously in this environment. Use .getInfo() in your runtime or export results to Drive/Asset.\n"
     ]
    }
   ],
   "source": [
    "# Example: print the timeseries values (server call)\n",
    "try:\n",
    "    ts = feature_collection.getInfo()\n",
    "    print('\\nTimeseries (last 24 samples):')\n",
    "    for f in ts['features']:\n",
    "        print(f\"{f['properties']['date']}: {f['properties']['CDI']}\")\n",
    "except Exception as e:\n",
    "    print('Could not fetch timeseries synchronously in this environment. Use .getInfo() in your runtime or export results to Drive/Asset.')\n",
    "\n",
    "\n",
    "\n"
   ]
  },
  {
   "cell_type": "code",
   "execution_count": 16,
   "id": "b77962a4-2c66-44c3-9733-b75e5ab55392",
   "metadata": {},
   "outputs": [
    {
     "name": "stdout",
     "output_type": "stream",
     "text": [
      "\n",
      "Script complete. Adjust parameters at the top (AOI, target_year, target_month) to run for a different period.\n"
     ]
    }
   ],
   "source": [
    "print('\\nScript complete. Adjust parameters at the top (AOI, target_year, target_month) to run for a different period.')"
   ]
  },
  {
   "cell_type": "code",
   "execution_count": null,
   "id": "6996fbab-8238-4201-9a79-88edfe186d62",
   "metadata": {},
   "outputs": [],
   "source": []
  },
  {
   "cell_type": "code",
   "execution_count": null,
   "id": "99bbfe85-50d1-4812-9189-4a45b0c9d7eb",
   "metadata": {},
   "outputs": [],
   "source": []
  }
 ],
 "metadata": {
  "kernelspec": {
   "display_name": "Python 3 (ipykernel)",
   "language": "python",
   "name": "python3"
  },
  "language_info": {
   "codemirror_mode": {
    "name": "ipython",
    "version": 3
   },
   "file_extension": ".py",
   "mimetype": "text/x-python",
   "name": "python",
   "nbconvert_exporter": "python",
   "pygments_lexer": "ipython3",
   "version": "3.13.5"
  }
 },
 "nbformat": 4,
 "nbformat_minor": 5
}
